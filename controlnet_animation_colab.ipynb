{
  "cells": [
    {
      "cell_type": "markdown",
      "metadata": {
        "id": "view-in-github"
      },
      "source": [
        "[![Open In Colab](https://colab.research.google.com/assets/colab-badge.svg)](https://colab.research.google.com/github/camenduru/DWPose-colab/blob/main/controlnet_animation_colab.ipynb)"
      ]
    },
    {
      "cell_type": "code",
      "execution_count": null,
      "metadata": {
        "id": "NrgcDwZxgDOe"
      },
      "outputs": [],
      "source": [
        "%cd /content\n",
        "!pip install git+https://github.com/camenduru/mmagic@dev\n",
        "!pip install gradio mmengine openmim\n",
        "!wget https://raw.githubusercontent.com/open-mmlab/mmagic/main/demo/gradio_controlnet_animation.py -O /content/gradio_controlnet_animation.py\n",
        "# !pip install https://github.com/camenduru/insightface-face-detection-colab/releases/download/v0.1/mmcv_full-1.7.1-cp310-cp310-linux_x86_64.whl\n",
        "!pip install git+https://github.com/open-mmlab/mmcv@v2.0.1\n",
        "!python gradio_controlnet_animation.py"
      ]
    }
  ],
  "metadata": {
    "accelerator": "GPU",
    "colab": {
      "gpuType": "T4",
      "provenance": []
    },
    "kernelspec": {
      "display_name": "Python 3",
      "name": "python3"
    },
    "language_info": {
      "name": "python"
    }
  },
  "nbformat": 4,
  "nbformat_minor": 0
}
